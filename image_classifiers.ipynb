{
 "cells": [
  {
   "cell_type": "markdown",
   "metadata": {},
   "source": [
    "**Import packages and load the data**"
   ]
  },
  {
   "cell_type": "code",
   "execution_count": 13,
   "metadata": {},
   "outputs": [],
   "source": [
    "#Imports and loads\n",
    "import pandas as pd\n",
    "import pickle\n",
    "import numpy as np\n",
    "\n",
    "with open(\"data.pickle\", \"rb\") as f:\n",
    "    data = pickle.load(f)\n",
    "    \n",
    "images = data[\"images\"]\n",
    "labels = data[\"labels\"]\n",
    "n_classes = 5\n",
    "labels_text = [\"T-shirt\", \"Trouser\", \"Pullover\", \"Dress\", \"Coat\"]"
   ]
  },
  {
   "cell_type": "markdown",
   "metadata": {},
   "source": [
    "# Using a Random Forest Classifier to detect the most differentiative pixels."
   ]
  },
  {
   "cell_type": "code",
   "execution_count": 15,
   "metadata": {},
   "outputs": [
    {
     "name": "stdout",
     "output_type": "stream",
     "text": [
      "Using a Random Forest Classifier, the most (25) important pixels are:\n",
      " [649 442 582 686 714 274 593 518 462 610 219 162 658 574 538 481 490 509\n",
      " 190 602 630 228  47 546 117]\n"
     ]
    },
    {
     "data": {
      "image/png": "[encoded data removed]",
      "text/plain": [
       "<matplotlib.figure.Figure at 0x1c1e8e48>"
      ]
     },
     "metadata": {},
     "output_type": "display_data"
    }
   ],
   "source": [
    "from sklearn.ensemble import RandomForestClassifier\n",
    "from sklearn.model_selection import train_test_split\n",
    "import matplotlib.pyplot as plt\n",
    "%matplotlib inline\n",
    "\n",
    "#Split into train-test.\n",
    "X_train, X_test, y_train, y_test = train_test_split(images, labels, test_size=0.2, random_state=2017, stratify=labels)\n",
    "\n",
    "clf = RandomForestClassifier(n_estimators=100,random_state=0)\n",
    "clf.fit(X_train, y_train)\n",
    "\n",
    "importance = clf.feature_importances_\n",
    "\n",
    "#S'agafen 25 píxels per obtenir una millor claredat, tot i que amb 10 seria suficient.\n",
    "ind = np.argpartition(importance, -25)[-25:]\n",
    "print(\"Using a Random Forest Classifier, the most (25) important pixels are:\\n\", ind)\n",
    " \n",
    "fig, ax = plt.subplots(1, 5, figsize=(20,20))\n",
    "idxs = [np.where(labels == i)[0] for i in range(5)]\n",
    "\n",
    "for i in range(5):\n",
    "    k = np.random.choice(idxs[i])\n",
    "    d = images[k].copy()\n",
    "    d[ind] = np.nan\n",
    "    d = d.reshape(28,28)\n",
    "    cmap = plt.cm.gray\n",
    "    cmap.set_bad((1, 0, 0, 1))\n",
    "    ax[i].imshow(d, cmap=cmap)\n",
    "    ax[i].set_title(\"{}\".format(labels_text[i]))"
   ]
  },
  {
   "cell_type": "markdown",
   "metadata": {},
   "source": [
    "# Using a Convolutional Neural Network to classify the images"
   ]
  },
  {
   "cell_type": "code",
   "execution_count": 16,
   "metadata": {},
   "outputs": [
    {
     "name": "stderr",
     "output_type": "stream",
     "text": [
      "c:\\python\\lib\\site-packages\\h5py\\__init__.py:36: FutureWarning: Conversion of the second argument of issubdtype from `float` to `np.floating` is deprecated. In future, it will be treated as `np.float64 == np.dtype(float).type`.\n",
      "  from ._conv import register_converters as _register_converters\n",
      "Using TensorFlow backend.\n"
     ]
    },
    {
     "name": "stdout",
     "output_type": "stream",
     "text": [
      "Test loss: 0.3254554476737976\n",
      "Test accuracy: 0.906\n"
     ]
    }
   ],
   "source": [
    "#Using a Convolutional Neural Network to classify the images\n",
    "from keras.models import Sequential\n",
    "from keras.layers import Dense, Dropout, Flatten\n",
    "from keras.layers import Conv2D, MaxPooling2D\n",
    "from keras.optimizers import SGD\n",
    "import keras\n",
    "\n",
    "num_classes = 5\n",
    "batch_size = 32\n",
    "epochs = 400\n",
    "sgd = SGD(lr=0.01)\n",
    "\n",
    "\n",
    "x_train = X_train.reshape(4000,28,28,1)\n",
    "x_test = X_test.reshape(1000,28,28,1)\n",
    "\n",
    "# convert class vectors to binary class matrices\n",
    "y_train_b = keras.utils.to_categorical(y_train, num_classes)\n",
    "y_test_b = keras.utils.to_categorical(y_test, num_classes)\n",
    "\n",
    "#Model\n",
    "model = Sequential()\n",
    "model.add(Conv2D(28, kernel_size=(2, 2),\n",
    "                 activation='relu',\n",
    "                 input_shape=(28,28,1)))\n",
    "model.add(MaxPooling2D(pool_size=(2, 2)))\n",
    "model.add(Dropout(0.5))\n",
    "model.add(Flatten())\n",
    "model.add(Dense(96, activation='relu'))\n",
    "model.add(Dropout(0.35))\n",
    "model.add(Dense(num_classes, activation='softmax'))\n",
    "\n",
    "#Compile\n",
    "model.compile(loss=keras.losses.categorical_crossentropy,\n",
    "              optimizer=sgd,\n",
    "              metrics=['accuracy'])\n",
    "\n",
    "#Fit\n",
    "model.fit(x_train, y_train_b,\n",
    "          batch_size=batch_size,\n",
    "          epochs=epochs,\n",
    "          verbose=0)\n",
    "\n",
    "score = model.evaluate(x_test, y_test_b, verbose=0)\n",
    "print('Test loss:', score[0])\n",
    "print('Test accuracy:', score[1])"
   ]
  },
  {
   "cell_type": "code",
   "execution_count": null,
   "metadata": {},
   "outputs": [],
   "source": []
  }
 ],
 "metadata": {
  "kernelspec": {
   "display_name": "Python 3",
   "language": "python",
   "name": "python3"
  },
  "language_info": {
   "codemirror_mode": {
    "name": "ipython",
    "version": 3
   },
   "file_extension": ".py",
   "mimetype": "text/x-python",
   "name": "python",
   "nbconvert_exporter": "python",
   "pygments_lexer": "ipython3",
   "version": "3.6.5"
  }
 },
 "nbformat": 4,
 "nbformat_minor": 2
}
